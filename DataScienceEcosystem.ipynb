{
 "cells": [
  {
   "cell_type": "markdown",
   "id": "05d3d510-163f-4852-a975-cd028a4a8d02",
   "metadata": {},
   "source": [
    "# Data Science Tools and Ecosystem"
   ]
  },
  {
   "cell_type": "markdown",
   "id": "0a36474c-a0cc-43b5-8adc-0602c6975196",
   "metadata": {},
   "source": [
    "## Author\n",
    "Martin Alonso"
   ]
  },
  {
   "cell_type": "markdown",
   "id": "6e2e48c0-dcf4-42ae-862c-549684f22381",
   "metadata": {},
   "source": [
    "In this notebook, Data Science Tools and Ecosystem are summarized."
   ]
  },
  {
   "cell_type": "markdown",
   "id": "47bb3429-2fd0-49d1-8895-33f641bda800",
   "metadata": {},
   "source": [
    "**Objectives:**  \n",
    "* List popular languages for Data Science  \n",
    "* List common libraries for Data Science  \n",
    "* List popular tools for Data Science  \n",
    "* Show simple arithmetic operations"
   ]
  },
  {
   "cell_type": "markdown",
   "id": "aa05ac35-985b-4673-873f-91c13632c618",
   "metadata": {},
   "source": [
    "Some of the popular languages that Data Scientists use are:\n",
    "1. Python\n",
    "2. R\n",
    "3. Julia"
   ]
  },
  {
   "cell_type": "markdown",
   "id": "6d6a1f24-4bdc-4f73-9994-02ff90d6f6ab",
   "metadata": {},
   "source": [
    "Some of the commonly used libraries used by Data Scientists include:\n",
    "1. Pandas\n",
    "2. Numpy\n",
    "3. Scikit learn\n",
    "4. Matplotlib\n",
    "5. Seaborn"
   ]
  },
  {
   "cell_type": "markdown",
   "id": "5aa140ba-064e-42e7-8aba-e98796500568",
   "metadata": {},
   "source": [
    "| Data Science Tools |\n",
    "----------------------\n",
    "| Jupyter Lab |\n",
    "| Anaconda | \n",
    "| RStudio | "
   ]
  },
  {
   "cell_type": "markdown",
   "id": "cfdadb48-67d4-4c32-88cb-e28e5f8351d7",
   "metadata": {},
   "source": [
    "### Below are a few examples of evaluating arithmetic expressions in Python"
   ]
  },
  {
   "cell_type": "code",
   "execution_count": 1,
   "id": "6f2329b2-54c9-4fe2-9deb-43965a29546f",
   "metadata": {
    "tags": []
   },
   "outputs": [
    {
     "data": {
      "text/plain": [
       "17"
      ]
     },
     "execution_count": 1,
     "metadata": {},
     "output_type": "execute_result"
    }
   ],
   "source": [
    "# This a simple arithmetic expression to mutiply then add integers\n",
    "(3 * 4) + 5"
   ]
  },
  {
   "cell_type": "code",
   "execution_count": 2,
   "id": "66d119c3-c351-4184-b397-6187d7e2c0ed",
   "metadata": {
    "tags": []
   },
   "outputs": [
    {
     "data": {
      "text/plain": [
       "3.3333333333333335"
      ]
     },
     "execution_count": 2,
     "metadata": {},
     "output_type": "execute_result"
    }
   ],
   "source": [
    "# This will convert 200 minutes to hours by diving by 60\n",
    "200 / 60 "
   ]
  },
  {
   "cell_type": "code",
   "execution_count": null,
   "id": "d751fc94-e130-4a6d-851a-60a09b3aa48f",
   "metadata": {},
   "outputs": [],
   "source": [
    "    "
   ]
  }
 ],
 "metadata": {
  "kernelspec": {
   "display_name": "Python",
   "language": "python",
   "name": "conda-env-python-py"
  },
  "language_info": {
   "codemirror_mode": {
    "name": "ipython",
    "version": 3
   },
   "file_extension": ".py",
   "mimetype": "text/x-python",
   "name": "python",
   "nbconvert_exporter": "python",
   "pygments_lexer": "ipython3",
   "version": "3.7.12"
  }
 },
 "nbformat": 4,
 "nbformat_minor": 5
}
